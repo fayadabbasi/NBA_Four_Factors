{
 "cells": [
  {
   "cell_type": "markdown",
   "metadata": {},
   "source": [
    "# Here is where I will store information for me to run my script to scrape the information from the website"
   ]
  },
  {
   "cell_type": "code",
   "execution_count": null,
   "metadata": {},
   "outputs": [],
   "source": []
  },
  {
   "cell_type": "code",
   "execution_count": 7,
   "metadata": {},
   "outputs": [],
   "source": [
    "class Team():\n",
    "    ATLANTA_HAWKS = \"ATLANTA HAWKS\"\n",
    "    BOSTON_CELTICS = \"BOSTON CELTICS\"\n",
    "    BROOKLYN_NETS = \"BROOKLYN NETS\"\n",
    "    CHARLOTTE_HORNETS = \"CHARLOTTE HORNETS\"\n",
    "    CHICAGO_BULLS = \"CHICAGO BULLS\"\n",
    "    CLEVELAND_CAVALIERS = \"CLEVELAND CAVALIERS\"\n",
    "    DALLAS_MAVERICKS = \"DALLAS MAVERICKS\"\n",
    "    DENVER_NUGGETS = \"DENVER NUGGETS\"\n",
    "    DETROIT_PISTONS = \"DETROIT PISTONS\"\n",
    "    GOLDEN_STATE_WARRIORS = \"GOLDEN STATE WARRIORS\"\n",
    "    HOUSTON_ROCKETS = \"HOUSTON ROCKETS\"\n",
    "    INDIANA_PACERS = \"INDIANA PACERS\"\n",
    "    LOS_ANGELES_CLIPPERS = \"LOS ANGELES CLIPPERS\"\n",
    "    LOS_ANGELES_LAKERS = \"LOS ANGELES LAKERS\"\n",
    "    MEMPHIS_GRIZZLIES = \"MEMPHIS GRIZZLIES\"\n",
    "    MIAMI_HEAT = \"MIAMI HEAT\"\n",
    "    MILWAUKEE_BUCKS = \"MILWAUKEE BUCKS\"\n",
    "    MINNESOTA_TIMBERWOLVES = \"MINNESOTA TIMBERWOLVES\"\n",
    "    NEW_ORLEANS_PELICANS = \"NEW ORLEANS PELICANS\"\n",
    "    NEW_YORK_KNICKS = \"NEW YORK KNICKS\"\n",
    "    OKLAHOMA_CITY_THUNDER = \"OKLAHOMA CITY THUNDER\"\n",
    "    ORLANDO_MAGIC = \"ORLANDO MAGIC\"\n",
    "    PHILADELPHIA_76ERS = \"PHILADELPHIA 76ERS\"\n",
    "    PHOENIX_SUNS = \"PHOENIX SUNS\"\n",
    "    PORTLAND_TRAIL_BLAZERS = \"PORTLAND TRAIL BLAZERS\"\n",
    "    SACRAMENTO_KINGS = \"SACRAMENTO KINGS\"\n",
    "    SAN_ANTONIO_SPURS = \"SAN ANTONIO SPURS\"\n",
    "    TORONTO_RAPTORS = \"TORONTO RAPTORS\"\n",
    "    UTAH_JAZZ = \"UTAH JAZZ\"\n",
    "    WASHINGTON_WIZARDS = \"WASHINGTON WIZARDS\"\n",
    "\n",
    "    # DEPRECATED TEAMS\n",
    "    CHARLOTTE_BOBCATS = \"CHARLOTTE BOBCATS\"\n",
    "    NEW_JERSEY_NETS = \"NEW JERSEY NETS\"\n",
    "    NEW_ORLEANS_HORNETS = \"NEW ORLEANS HORNETS\"\n",
    "    NEW_ORLEANS_OKLAHOMA_CITY_HORNETS = \"NEW ORLEANS/OKLAHOMA CITY HORNETS\"\n",
    "    SEATTLE_SUPERSONICS = \"SEATTLE SUPERSONICS\"\n",
    "    VANCOUVER_GRIZZLIES = \"VANCOUVER GRIZZLIES\""
   ]
  },
  {
   "cell_type": "code",
   "execution_count": 9,
   "metadata": {},
   "outputs": [],
   "source": [
    "TEAM_ABBREVIATIONS_TO_TEAM = {\n",
    "    'ATL': Team.ATLANTA_HAWKS,\n",
    "    'BOS': Team.BOSTON_CELTICS,\n",
    "    'BRK': Team.BROOKLYN_NETS,\n",
    "    'CHI': Team.CHICAGO_BULLS,\n",
    "    'CHO': Team.CHARLOTTE_HORNETS,\n",
    "    'CLE': Team.CLEVELAND_CAVALIERS,\n",
    "    'DAL': Team.DALLAS_MAVERICKS,\n",
    "    'DEN': Team.DENVER_NUGGETS,\n",
    "    'DET': Team.DETROIT_PISTONS,\n",
    "    'GSW': Team.GOLDEN_STATE_WARRIORS,\n",
    "    'HOU': Team.HOUSTON_ROCKETS,\n",
    "    'IND': Team.INDIANA_PACERS,\n",
    "    'LAC': Team.LOS_ANGELES_CLIPPERS,\n",
    "    'LAL': Team.LOS_ANGELES_LAKERS,\n",
    "    'MEM': Team.MEMPHIS_GRIZZLIES,\n",
    "    'MIA': Team.MIAMI_HEAT,\n",
    "    'MIL': Team.MILWAUKEE_BUCKS,\n",
    "    'MIN': Team.MINNESOTA_TIMBERWOLVES,\n",
    "    'NOP': Team.NEW_ORLEANS_PELICANS,\n",
    "    'NYK': Team.NEW_YORK_KNICKS,\n",
    "    'OKC': Team.OKLAHOMA_CITY_THUNDER,\n",
    "    'ORL': Team.ORLANDO_MAGIC,\n",
    "    'PHI': Team.PHILADELPHIA_76ERS,\n",
    "    'PHO': Team.PHOENIX_SUNS,\n",
    "    'POR': Team.PORTLAND_TRAIL_BLAZERS,\n",
    "    'SAC': Team.SACRAMENTO_KINGS,\n",
    "    'SAS': Team.SAN_ANTONIO_SPURS,\n",
    "    'TOR': Team.TORONTO_RAPTORS,\n",
    "    'UTA': Team.UTAH_JAZZ,\n",
    "    'WAS': Team.WASHINGTON_WIZARDS,\n",
    "\n",
    "    # DEPRECATED TEAMS\n",
    "    'NJN': Team.NEW_JERSEY_NETS,\n",
    "    'NOH': Team.NEW_ORLEANS_HORNETS,\n",
    "    'NOK': Team.NEW_ORLEANS_OKLAHOMA_CITY_HORNETS,\n",
    "    'CHA': Team.CHARLOTTE_BOBCATS,\n",
    "    'CHH': Team.CHARLOTTE_HORNETS,\n",
    "    'SEA': Team.SEATTLE_SUPERSONICS,\n",
    "    'VAN': Team.VANCOUVER_GRIZZLIES,\n",
    "}"
   ]
  },
  {
   "cell_type": "code",
   "execution_count": 10,
   "metadata": {},
   "outputs": [],
   "source": [
    "TEAM_TO_TEAM_ABBREVIATION = {v: k for k, v in TEAM_ABBREVIATIONS_TO_TEAM.items()}\n",
    "TEAM_TO_TEAM_ABBREVIATION[Team.CHARLOTTE_HORNETS] = \"CHO\""
   ]
  },
  {
   "cell_type": "code",
   "execution_count": 11,
   "metadata": {},
   "outputs": [],
   "source": [
    "TEAM_NAME_TO_TEAM = {\n",
    "    \"ATLANTA HAWKS\": Team.ATLANTA_HAWKS,\n",
    "    \"BOSTON CELTICS\": Team.BOSTON_CELTICS,\n",
    "    \"BROOKLYN NETS\": Team.BROOKLYN_NETS,\n",
    "    \"CHARLOTTE HORNETS\": Team.CHARLOTTE_HORNETS,\n",
    "    \"CHICAGO BULLS\": Team.CHICAGO_BULLS,\n",
    "    \"CLEVELAND CAVALIERS\": Team.CLEVELAND_CAVALIERS,\n",
    "    \"DALLAS MAVERICKS\": Team.DALLAS_MAVERICKS,\n",
    "    \"DENVER NUGGETS\": Team.DENVER_NUGGETS,\n",
    "    \"DETROIT PISTONS\": Team.DETROIT_PISTONS,\n",
    "    \"GOLDEN STATE WARRIORS\": Team.GOLDEN_STATE_WARRIORS,\n",
    "    \"HOUSTON ROCKETS\": Team.HOUSTON_ROCKETS,\n",
    "    \"INDIANA PACERS\": Team.INDIANA_PACERS,\n",
    "    \"LOS ANGELES CLIPPERS\": Team.LOS_ANGELES_CLIPPERS,\n",
    "    \"LOS ANGELES LAKERS\": Team.LOS_ANGELES_LAKERS,\n",
    "    \"MEMPHIS GRIZZLIES\": Team.MEMPHIS_GRIZZLIES,\n",
    "    \"MIAMI HEAT\": Team.MIAMI_HEAT,\n",
    "    \"MILWAUKEE BUCKS\": Team.MILWAUKEE_BUCKS,\n",
    "    \"MINNESOTA TIMBERWOLVES\": Team.MINNESOTA_TIMBERWOLVES,\n",
    "    \"NEW ORLEANS PELICANS\": Team.NEW_ORLEANS_PELICANS,\n",
    "    \"NEW YORK KNICKS\": Team.NEW_YORK_KNICKS,\n",
    "    \"OKLAHOMA CITY THUNDER\": Team.OKLAHOMA_CITY_THUNDER,\n",
    "    \"ORLANDO MAGIC\": Team.ORLANDO_MAGIC,\n",
    "    \"PHILADELPHIA 76ERS\": Team.PHILADELPHIA_76ERS,\n",
    "    \"PHOENIX SUNS\": Team.PHOENIX_SUNS,\n",
    "    \"PORTLAND TRAIL BLAZERS\": Team.PORTLAND_TRAIL_BLAZERS,\n",
    "    \"SACRAMENTO KINGS\": Team.SACRAMENTO_KINGS,\n",
    "    \"SAN ANTONIO SPURS\": Team.SAN_ANTONIO_SPURS,\n",
    "    \"TORONTO RAPTORS\": Team.TORONTO_RAPTORS,\n",
    "    \"UTAH JAZZ\": Team.UTAH_JAZZ,\n",
    "    \"WASHINGTON WIZARDS\": Team.WASHINGTON_WIZARDS,\n",
    "\n",
    "    # DEPRECATED TEAMS\n",
    "    \"CHARLOTTE BOBCATS\": Team.CHARLOTTE_BOBCATS,\n",
    "    \"NEW JERSEY NETS\": Team.NEW_JERSEY_NETS,\n",
    "    \"NEW ORLEANS HORNETS\": Team.NEW_ORLEANS_HORNETS,\n",
    "    \"NEW ORLEANS/OKLAHOMA CITY HORNETS\": Team.NEW_ORLEANS_OKLAHOMA_CITY_HORNETS,\n",
    "    \"SEATTLE SUPERSONICS\": Team.SEATTLE_SUPERSONICS,\n",
    "    \"VANCOUVER GRIZZLIES\": Team.VANCOUVER_GRIZZLIES,\n",
    "}"
   ]
  },
  {
   "cell_type": "code",
   "execution_count": 16,
   "metadata": {},
   "outputs": [],
   "source": [
    "team_name = Team()"
   ]
  },
  {
   "cell_type": "code",
   "execution_count": 18,
   "metadata": {},
   "outputs": [
    {
     "data": {
      "text/plain": [
       "'ATL'"
      ]
     },
     "execution_count": 18,
     "metadata": {},
     "output_type": "execute_result"
    }
   ],
   "source": [
    "TEAM_TO_TEAM_ABBREVIATION[team.ATLANTA_HAWKS]"
   ]
  },
  {
   "cell_type": "code",
   "execution_count": null,
   "metadata": {},
   "outputs": [],
   "source": []
  },
  {
   "cell_type": "code",
   "execution_count": null,
   "metadata": {},
   "outputs": [],
   "source": []
  },
  {
   "cell_type": "code",
   "execution_count": null,
   "metadata": {},
   "outputs": [],
   "source": []
  },
  {
   "cell_type": "code",
   "execution_count": null,
   "metadata": {},
   "outputs": [],
   "source": []
  }
 ],
 "metadata": {
  "kernelspec": {
   "display_name": "Python 3",
   "language": "python",
   "name": "python3"
  },
  "language_info": {
   "codemirror_mode": {
    "name": "ipython",
    "version": 3
   },
   "file_extension": ".py",
   "mimetype": "text/x-python",
   "name": "python",
   "nbconvert_exporter": "python",
   "pygments_lexer": "ipython3",
   "version": "3.7.0"
  }
 },
 "nbformat": 4,
 "nbformat_minor": 2
}
