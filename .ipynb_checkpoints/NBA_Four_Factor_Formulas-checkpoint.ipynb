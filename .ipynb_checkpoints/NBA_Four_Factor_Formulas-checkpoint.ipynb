{
 "cells": [
  {
   "cell_type": "code",
   "execution_count": 1,
   "metadata": {},
   "outputs": [],
   "source": [
    "import requests\n",
    "import re\n",
    "from urllib.request import urlopen\n",
    "from bs4 import BeautifulSoup\n",
    "import json\n",
    "import time\n",
    "import pandas as pd"
   ]
  },
  {
   "cell_type": "code",
   "execution_count": null,
   "metadata": {},
   "outputs": [],
   "source": [
    "web_template = (f'https://www.basketball-reference.com/boxscores/{year}{month}{day}{0}{team}.html')"
   ]
  },
  {
   "cell_type": "code",
   "execution_count": 2,
   "metadata": {},
   "outputs": [],
   "source": [
    "def web_scrape(filename):\n",
    "    year, month, day, team = 2019, 10, 19, 'ORL'    \n",
    "    web_template = (f'https://www.basketball-reference.com/boxscores/{year}{month}{day}{0}{team}.html')\n",
    "    data = requests.get(web_template)\n",
    "    soup = BeautifulSoup(data.text, 'html.parser')\n",
    "    headers_four_factors = [th.getText() for th in soup.findAll('tr', limit=2)[1].findAll('th')]\n",
    "    rows = soup.findAll('tr')[2:]\n",
    "    player_stats1 = [[td.getText() for td in rows[i].findAll('td')] for i in range(len(rows))]\n",
    "    player_names1 = [[td.getText() for td in rows[i].findAll('th')] for i in range(len(rows))]\n",
    "    return player_stats1, player_names1"
   ]
  },
  {
   "cell_type": "code",
   "execution_count": 4,
   "metadata": {},
   "outputs": [],
   "source": [
    "def team_stats(hometeam, awayteam):\n",
    "    stats = pd.DataFrame(player_stats1, columns = headers_four_factors[1:])\n",
    "    player = pd.DataFrame(player_names1)\n",
    "    player = player[0][:66]\n",
    "    stats['Player'] = player\n",
    "    return stats"
   ]
  },
  {
   "cell_type": "code",
   "execution_count": 5,
   "metadata": {},
   "outputs": [],
   "source": [
    "def team_summary(hometeam, awayteam):\n",
    "    year, month, day, team = 2019, 10, 19, 'ORL'    \n",
    "    web_template = (f'https://www.basketball-reference.com/boxscores/{year}{month}{day}{0}{team}.html')\n",
    "    data = requests.get(web_template)\n",
    "    soup = BeautifulSoup(data.text, 'html.parser')\n",
    "    rows2 = soup.findAll(class_='scorebox')\n",
    "    overall_teams = [strong.getText() for strong in rows2[0].findAll('strong')]\n",
    "    overall_teams = [items.strip('\\n') for items in overall_teams]\n",
    "    overall_score = [scores.getText() for scores in rows2[0].findAll(class_='scores')]\n",
    "    overall_score = [items.strip('\\n') for items in overall_score]\n",
    "    \n",
    "    def date_adjustment():\n",
    "        overall_date = [dates.getText() for dates in rows2[0].findAll(class_='scorebox_meta')]\n",
    "        overall_date = [items.strip('\\n') for items in overall_date]\n",
    "        overall_date_2 = [items.split(',') for items in overall_date]\n",
    "        output_list = []\n",
    "        output_list.append(overall_date_2[0][0])\n",
    "        output_list.append(overall_date_2[0][1])\n",
    "        output_list.append(overall_date_2[0][2][:5].strip(' '))\n",
    "        date_list = [' '.join(output_list())] * 2\n",
    "        return date_list\n",
    "    \n",
    "    teams_scores = pd.DataFrame(overall_teams, columns=['Team_Name'])\n",
    "    teams_scores['Score'] = overall_score\n",
    "    teams_scores['Date'] = date_list\n",
    "    return teams_scores\n",
    "    "
   ]
  },
  {
   "cell_type": "code",
   "execution_count": null,
   "metadata": {},
   "outputs": [],
   "source": []
  }
 ],
 "metadata": {
  "kernelspec": {
   "display_name": "Python 3",
   "language": "python",
   "name": "python3"
  },
  "language_info": {
   "codemirror_mode": {
    "name": "ipython",
    "version": 3
   },
   "file_extension": ".py",
   "mimetype": "text/x-python",
   "name": "python",
   "nbconvert_exporter": "python",
   "pygments_lexer": "ipython3",
   "version": "3.7.0"
  }
 },
 "nbformat": 4,
 "nbformat_minor": 2
}
