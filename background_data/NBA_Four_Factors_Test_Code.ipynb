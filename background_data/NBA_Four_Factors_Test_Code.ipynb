{
 "cells": [
  {
   "cell_type": "code",
   "execution_count": 1,
   "metadata": {},
   "outputs": [],
   "source": [
    "import requests\n",
    "import re\n",
    "from urllib.request import urlopen\n",
    "from bs4 import BeautifulSoup\n",
    "import json\n",
    "import time\n",
    "import pandas as pd"
   ]
  },
  {
   "cell_type": "code",
   "execution_count": 2,
   "metadata": {},
   "outputs": [],
   "source": [
    "webpage = requests.get('https://www.basketball-reference.com/boxscores/201810190ORL.html')"
   ]
  },
  {
   "cell_type": "code",
   "execution_count": 3,
   "metadata": {},
   "outputs": [],
   "source": [
    "year = 2018\n",
    "month = 10\n",
    "day = 19\n",
    "team = 'ORL'"
   ]
  },
  {
   "cell_type": "code",
   "execution_count": 4,
   "metadata": {},
   "outputs": [],
   "source": [
    "web_name = (f'https://www.basketball-reference.com/boxscores/{year}{month}{day}{0}{team}.html')"
   ]
  },
  {
   "cell_type": "code",
   "execution_count": 5,
   "metadata": {},
   "outputs": [
    {
     "data": {
      "text/plain": [
       "'https://www.basketball-reference.com/boxscores/201810190ORL.html'"
      ]
     },
     "execution_count": 5,
     "metadata": {},
     "output_type": "execute_result"
    }
   ],
   "source": [
    "web_name"
   ]
  },
  {
   "cell_type": "code",
   "execution_count": 6,
   "metadata": {},
   "outputs": [],
   "source": [
    "web_many = requests.get(web_name)"
   ]
  },
  {
   "cell_type": "code",
   "execution_count": 7,
   "metadata": {},
   "outputs": [],
   "source": [
    "# now that I have the framework, I can create a list or dictionary to loop through to run the scrapes"
   ]
  },
  {
   "cell_type": "code",
   "execution_count": 8,
   "metadata": {},
   "outputs": [],
   "source": [
    "soup = BeautifulSoup(webpage.text, 'html.parser')"
   ]
  },
  {
   "cell_type": "code",
   "execution_count": 9,
   "metadata": {},
   "outputs": [
    {
     "data": {
      "text/plain": [
       "[<tr class=\"over_header\"><th></th>\n",
       " <th aria-label=\"\" class=\" over_header center\" colspan=\"20\" data-stat=\"header_tmp\">Basic Box Score Stats</th>\n",
       " </tr>, <tr>\n",
       " <th aria-label=\"Starters\" class=\" poptip sort_default_asc center\" data-stat=\"player\" scope=\"col\">Starters</th>\n",
       " <th aria-label=\"Minutes Played\" class=\" poptip center\" data-over-header=\"Basic Box Score Stats\" data-stat=\"mp\" data-tip=\"Minutes Played\" scope=\"col\">MP</th>\n",
       " <th aria-label=\"Field Goals\" class=\" poptip center\" data-over-header=\"Basic Box Score Stats\" data-stat=\"fg\" data-tip=\"Field Goals\" scope=\"col\">FG</th>\n",
       " <th aria-label=\"Field Goal Attempts\" class=\" poptip center\" data-over-header=\"Basic Box Score Stats\" data-stat=\"fga\" data-tip=\"Field Goal Attempts\" scope=\"col\">FGA</th>\n",
       " <th aria-label=\"Field Goal Percentage\" class=\" poptip center\" data-over-header=\"Basic Box Score Stats\" data-stat=\"fg_pct\" data-tip=\"Field Goal Percentage\" scope=\"col\">FG%</th>\n",
       " <th aria-label=\"3-Point Field Goals\" class=\" poptip center\" data-over-header=\"Basic Box Score Stats\" data-stat=\"fg3\" data-tip=\"3-Point Field Goals\" scope=\"col\">3P</th>\n",
       " <th aria-label=\"3-Point Field Goal Attempts\" class=\" poptip center\" data-over-header=\"Basic Box Score Stats\" data-stat=\"fg3a\" data-tip=\"3-Point Field Goal Attempts\" scope=\"col\">3PA</th>\n",
       " <th aria-label=\"3-Point Field Goal Percentage\" class=\" poptip center\" data-over-header=\"Basic Box Score Stats\" data-stat=\"fg3_pct\" data-tip=\"3-Point Field Goal Percentage\" scope=\"col\">3P%</th>\n",
       " <th aria-label=\"Free Throws\" class=\" poptip center\" data-over-header=\"Basic Box Score Stats\" data-stat=\"ft\" data-tip=\"Free Throws\" scope=\"col\">FT</th>\n",
       " <th aria-label=\"Free Throw Attempts\" class=\" poptip center\" data-over-header=\"Basic Box Score Stats\" data-stat=\"fta\" data-tip=\"Free Throw Attempts\" scope=\"col\">FTA</th>\n",
       " <th aria-label=\"Free Throw Percentage\" class=\" poptip center\" data-over-header=\"Basic Box Score Stats\" data-stat=\"ft_pct\" data-tip=\"Free Throw Percentage\" scope=\"col\">FT%</th>\n",
       " <th aria-label=\"Offensive Rebounds\" class=\" poptip center\" data-over-header=\"Basic Box Score Stats\" data-stat=\"orb\" data-tip=\"Offensive Rebounds\" scope=\"col\">ORB</th>\n",
       " <th aria-label=\"Defensive Rebounds\" class=\" poptip center\" data-over-header=\"Basic Box Score Stats\" data-stat=\"drb\" data-tip=\"Defensive Rebounds\" scope=\"col\">DRB</th>\n",
       " <th aria-label=\"Total Rebounds\" class=\" poptip center\" data-over-header=\"Basic Box Score Stats\" data-stat=\"trb\" data-tip=\"Total Rebounds\" scope=\"col\">TRB</th>\n",
       " <th aria-label=\"Assists\" class=\" poptip center\" data-over-header=\"Basic Box Score Stats\" data-stat=\"ast\" data-tip=\"Assists\" scope=\"col\">AST</th>\n",
       " <th aria-label=\"Steals\" class=\" poptip center\" data-over-header=\"Basic Box Score Stats\" data-stat=\"stl\" data-tip=\"Steals\" scope=\"col\">STL</th>\n",
       " <th aria-label=\"Blocks\" class=\" poptip center\" data-over-header=\"Basic Box Score Stats\" data-stat=\"blk\" data-tip=\"Blocks\" scope=\"col\">BLK</th>\n",
       " <th aria-label=\"Turnovers\" class=\" poptip center\" data-over-header=\"Basic Box Score Stats\" data-stat=\"tov\" data-tip=\"Turnovers\" scope=\"col\">TOV</th>\n",
       " <th aria-label=\"Personal Fouls\" class=\" poptip center\" data-over-header=\"Basic Box Score Stats\" data-stat=\"pf\" data-tip=\"Personal Fouls\" scope=\"col\">PF</th>\n",
       " <th aria-label=\"Points\" class=\" poptip center\" data-over-header=\"Basic Box Score Stats\" data-stat=\"pts\" data-tip=\"Points\" scope=\"col\">PTS</th>\n",
       " <th aria-label=\"Plus/Minus\" class=\" poptip right\" data-over-header=\"Basic Box Score Stats\" data-stat=\"plus_minus\" data-tip=\"Plus/Minus\" scope=\"col\">+/-</th>\n",
       " </tr>]"
      ]
     },
     "execution_count": 9,
     "metadata": {},
     "output_type": "execute_result"
    }
   ],
   "source": [
    "soup.findAll('tr', limit=2) # search the page for table rows and play around with how many to limit it to\n",
    "# found that limiting it to two got me what I needed"
   ]
  },
  {
   "cell_type": "markdown",
   "metadata": {},
   "source": [
    "## Data I need to extract: \n",
    "FGM, 3P, FGA, FT, ORB, Opp DRB, TOV, FTA"
   ]
  },
  {
   "cell_type": "code",
   "execution_count": 10,
   "metadata": {},
   "outputs": [],
   "source": [
    "headers_four_factors = [th.getText() for th in soup.findAll('tr', limit=2)[1].findAll('th')]\n",
    "# this allows me to get the header data from the html file - search the file for table rows, \n",
    "# and then return all table headers. I got the index of position 1 where the header info resides"
   ]
  },
  {
   "cell_type": "code",
   "execution_count": 11,
   "metadata": {},
   "outputs": [
    {
     "name": "stdout",
     "output_type": "stream",
     "text": [
      "['Starters', 'MP', 'FG', 'FGA', 'FG%', '3P', '3PA', '3P%', 'FT', 'FTA', 'FT%', 'ORB', 'DRB', 'TRB', 'AST', 'STL', 'BLK', 'TOV', 'PF', 'PTS', '+/-']\n"
     ]
    }
   ],
   "source": [
    "print(headers_four_factors)"
   ]
  },
  {
   "cell_type": "markdown",
   "metadata": {},
   "source": [
    "## This has everything except the opponents DRB but I can get that from the matchup"
   ]
  },
  {
   "cell_type": "code",
   "execution_count": 12,
   "metadata": {},
   "outputs": [],
   "source": [
    "rows = soup.findAll('tr')[2:] # this pulls the rows data; need to start from the second row to eliminate\n",
    "# the headers for the rows\n",
    "player_stats1 = [[td.getText() for td in rows[i].findAll('td')]\n",
    "            for i in range(len(rows))]\n",
    "# the player_stats1 provides me all the data; however, the players name is not a table data \n",
    "# but a table head so I need to create a separate dataframe and then join the two"
   ]
  },
  {
   "cell_type": "code",
   "execution_count": 13,
   "metadata": {},
   "outputs": [
    {
     "data": {
      "text/plain": [
       "[<td class=\"right \" csk=\"1799\" data-stat=\"mp\">29:59</td>,\n",
       " <td class=\"right \" data-stat=\"fg\">6</td>,\n",
       " <td class=\"right \" data-stat=\"fga\">8</td>,\n",
       " <td class=\"right \" data-stat=\"fg_pct\">.750</td>,\n",
       " <td class=\"right \" data-stat=\"fg3\">3</td>,\n",
       " <td class=\"right \" data-stat=\"fg3a\">4</td>,\n",
       " <td class=\"right \" data-stat=\"fg3_pct\">.750</td>,\n",
       " <td class=\"right iz\" data-stat=\"ft\">0</td>,\n",
       " <td class=\"right iz\" data-stat=\"fta\">0</td>,\n",
       " <td class=\"right iz\" data-stat=\"ft_pct\"></td>,\n",
       " <td class=\"right iz\" data-stat=\"orb\">0</td>,\n",
       " <td class=\"right \" data-stat=\"drb\">6</td>,\n",
       " <td class=\"right \" data-stat=\"trb\">6</td>,\n",
       " <td class=\"right \" data-stat=\"ast\">5</td>,\n",
       " <td class=\"right \" data-stat=\"stl\">2</td>,\n",
       " <td class=\"right iz\" data-stat=\"blk\">0</td>,\n",
       " <td class=\"right \" data-stat=\"tov\">2</td>,\n",
       " <td class=\"right iz\" data-stat=\"pf\">0</td>,\n",
       " <td class=\"right \" data-stat=\"pts\">15</td>,\n",
       " <td class=\"right \" data-stat=\"plus_minus\">+32</td>]"
      ]
     },
     "execution_count": 13,
     "metadata": {},
     "output_type": "execute_result"
    }
   ],
   "source": [
    "rows[0].findAll('td')\n",
    "# this is the first player in the box score for the day"
   ]
  },
  {
   "cell_type": "code",
   "execution_count": 14,
   "metadata": {},
   "outputs": [
    {
     "data": {
      "text/plain": [
       "[<th class=\"left \" csk=\"Batum,Nicolas\" data-append-csv=\"batumni01\" data-stat=\"player\" scope=\"row\"><a href=\"/players/b/batumni01.html\">Nicolas Batum</a></th>]"
      ]
     },
     "execution_count": 14,
     "metadata": {},
     "output_type": "execute_result"
    }
   ],
   "source": [
    "rows[0].findAll('th') # looks like the data for the player name is in table head, not table data - this \n",
    "# confirms my thought"
   ]
  },
  {
   "cell_type": "code",
   "execution_count": 15,
   "metadata": {},
   "outputs": [],
   "source": [
    "player_names1 = [[td.getText() for td in rows[i].findAll('th')] for i in range(len(rows))]\n",
    "# this returns much more than just the name; instead it returns the entire table head flag"
   ]
  },
  {
   "cell_type": "code",
   "execution_count": 16,
   "metadata": {},
   "outputs": [
    {
     "name": "stdout",
     "output_type": "stream",
     "text": [
      "[['Nicolas Batum'], ['Kemba Walker'], ['Jeremy Lamb'], ['Cody Zeller'], ['Marvin Williams'], ['Reserves', 'MP', 'FG', 'FGA', 'FG%', '3P', '3PA', '3P%', 'FT', 'FTA', 'FT%', 'ORB', 'DRB', 'TRB', 'AST', 'STL', 'BLK', 'TOV', 'PF', 'PTS', '+/-'], ['Malik Monk'], ['Michael Kidd-Gilchrist'], ['Willy Hernangómez'], ['Tony Parker']]\n"
     ]
    }
   ],
   "source": [
    "print(player_names1[:10])"
   ]
  },
  {
   "cell_type": "code",
   "execution_count": 17,
   "metadata": {},
   "outputs": [],
   "source": [
    "stats = pd.DataFrame(player_stats1, columns = headers_four_factors[1:]) \n",
    "# create a dataframe with the stats from the game"
   ]
  },
  {
   "cell_type": "code",
   "execution_count": 18,
   "metadata": {},
   "outputs": [
    {
     "data": {
      "text/html": [
       "<div>\n",
       "<style scoped>\n",
       "    .dataframe tbody tr th:only-of-type {\n",
       "        vertical-align: middle;\n",
       "    }\n",
       "\n",
       "    .dataframe tbody tr th {\n",
       "        vertical-align: top;\n",
       "    }\n",
       "\n",
       "    .dataframe thead th {\n",
       "        text-align: right;\n",
       "    }\n",
       "</style>\n",
       "<table border=\"1\" class=\"dataframe\">\n",
       "  <thead>\n",
       "    <tr style=\"text-align: right;\">\n",
       "      <th></th>\n",
       "      <th>MP</th>\n",
       "      <th>FG</th>\n",
       "      <th>FGA</th>\n",
       "      <th>FG%</th>\n",
       "      <th>3P</th>\n",
       "      <th>3PA</th>\n",
       "      <th>3P%</th>\n",
       "      <th>FT</th>\n",
       "      <th>FTA</th>\n",
       "      <th>FT%</th>\n",
       "      <th>ORB</th>\n",
       "      <th>DRB</th>\n",
       "      <th>TRB</th>\n",
       "      <th>AST</th>\n",
       "      <th>STL</th>\n",
       "      <th>BLK</th>\n",
       "      <th>TOV</th>\n",
       "      <th>PF</th>\n",
       "      <th>PTS</th>\n",
       "      <th>+/-</th>\n",
       "    </tr>\n",
       "  </thead>\n",
       "  <tbody>\n",
       "    <tr>\n",
       "      <th>0</th>\n",
       "      <td>29:59</td>\n",
       "      <td>6</td>\n",
       "      <td>8</td>\n",
       "      <td>.750</td>\n",
       "      <td>3</td>\n",
       "      <td>4</td>\n",
       "      <td>.750</td>\n",
       "      <td>0</td>\n",
       "      <td>0</td>\n",
       "      <td></td>\n",
       "      <td>0</td>\n",
       "      <td>6</td>\n",
       "      <td>6</td>\n",
       "      <td>5</td>\n",
       "      <td>2</td>\n",
       "      <td>0</td>\n",
       "      <td>2</td>\n",
       "      <td>0</td>\n",
       "      <td>15</td>\n",
       "      <td>+32</td>\n",
       "    </tr>\n",
       "    <tr>\n",
       "      <th>1</th>\n",
       "      <td>26:46</td>\n",
       "      <td>8</td>\n",
       "      <td>16</td>\n",
       "      <td>.500</td>\n",
       "      <td>5</td>\n",
       "      <td>10</td>\n",
       "      <td>.500</td>\n",
       "      <td>5</td>\n",
       "      <td>5</td>\n",
       "      <td>1.000</td>\n",
       "      <td>0</td>\n",
       "      <td>2</td>\n",
       "      <td>2</td>\n",
       "      <td>5</td>\n",
       "      <td>1</td>\n",
       "      <td>0</td>\n",
       "      <td>3</td>\n",
       "      <td>0</td>\n",
       "      <td>26</td>\n",
       "      <td>+34</td>\n",
       "    </tr>\n",
       "    <tr>\n",
       "      <th>2</th>\n",
       "      <td>25:05</td>\n",
       "      <td>2</td>\n",
       "      <td>7</td>\n",
       "      <td>.286</td>\n",
       "      <td>0</td>\n",
       "      <td>2</td>\n",
       "      <td>.000</td>\n",
       "      <td>4</td>\n",
       "      <td>4</td>\n",
       "      <td>1.000</td>\n",
       "      <td>1</td>\n",
       "      <td>6</td>\n",
       "      <td>7</td>\n",
       "      <td>1</td>\n",
       "      <td>1</td>\n",
       "      <td>1</td>\n",
       "      <td>0</td>\n",
       "      <td>0</td>\n",
       "      <td>8</td>\n",
       "      <td>+19</td>\n",
       "    </tr>\n",
       "    <tr>\n",
       "      <th>3</th>\n",
       "      <td>22:45</td>\n",
       "      <td>3</td>\n",
       "      <td>8</td>\n",
       "      <td>.375</td>\n",
       "      <td>0</td>\n",
       "      <td>0</td>\n",
       "      <td></td>\n",
       "      <td>2</td>\n",
       "      <td>2</td>\n",
       "      <td>1.000</td>\n",
       "      <td>3</td>\n",
       "      <td>5</td>\n",
       "      <td>8</td>\n",
       "      <td>2</td>\n",
       "      <td>1</td>\n",
       "      <td>0</td>\n",
       "      <td>0</td>\n",
       "      <td>2</td>\n",
       "      <td>8</td>\n",
       "      <td>+17</td>\n",
       "    </tr>\n",
       "    <tr>\n",
       "      <th>4</th>\n",
       "      <td>20:29</td>\n",
       "      <td>3</td>\n",
       "      <td>7</td>\n",
       "      <td>.429</td>\n",
       "      <td>2</td>\n",
       "      <td>6</td>\n",
       "      <td>.333</td>\n",
       "      <td>0</td>\n",
       "      <td>0</td>\n",
       "      <td></td>\n",
       "      <td>1</td>\n",
       "      <td>3</td>\n",
       "      <td>4</td>\n",
       "      <td>0</td>\n",
       "      <td>0</td>\n",
       "      <td>0</td>\n",
       "      <td>1</td>\n",
       "      <td>0</td>\n",
       "      <td>8</td>\n",
       "      <td>+13</td>\n",
       "    </tr>\n",
       "    <tr>\n",
       "      <th>5</th>\n",
       "      <td>None</td>\n",
       "      <td>None</td>\n",
       "      <td>None</td>\n",
       "      <td>None</td>\n",
       "      <td>None</td>\n",
       "      <td>None</td>\n",
       "      <td>None</td>\n",
       "      <td>None</td>\n",
       "      <td>None</td>\n",
       "      <td>None</td>\n",
       "      <td>None</td>\n",
       "      <td>None</td>\n",
       "      <td>None</td>\n",
       "      <td>None</td>\n",
       "      <td>None</td>\n",
       "      <td>None</td>\n",
       "      <td>None</td>\n",
       "      <td>None</td>\n",
       "      <td>None</td>\n",
       "      <td>None</td>\n",
       "    </tr>\n",
       "    <tr>\n",
       "      <th>6</th>\n",
       "      <td>23:37</td>\n",
       "      <td>4</td>\n",
       "      <td>12</td>\n",
       "      <td>.333</td>\n",
       "      <td>2</td>\n",
       "      <td>6</td>\n",
       "      <td>.333</td>\n",
       "      <td>1</td>\n",
       "      <td>1</td>\n",
       "      <td>1.000</td>\n",
       "      <td>0</td>\n",
       "      <td>1</td>\n",
       "      <td>1</td>\n",
       "      <td>2</td>\n",
       "      <td>0</td>\n",
       "      <td>0</td>\n",
       "      <td>1</td>\n",
       "      <td>3</td>\n",
       "      <td>11</td>\n",
       "      <td>+5</td>\n",
       "    </tr>\n",
       "    <tr>\n",
       "      <th>7</th>\n",
       "      <td>22:29</td>\n",
       "      <td>5</td>\n",
       "      <td>8</td>\n",
       "      <td>.625</td>\n",
       "      <td>0</td>\n",
       "      <td>2</td>\n",
       "      <td>.000</td>\n",
       "      <td>2</td>\n",
       "      <td>4</td>\n",
       "      <td>.500</td>\n",
       "      <td>2</td>\n",
       "      <td>7</td>\n",
       "      <td>9</td>\n",
       "      <td>5</td>\n",
       "      <td>0</td>\n",
       "      <td>2</td>\n",
       "      <td>1</td>\n",
       "      <td>1</td>\n",
       "      <td>12</td>\n",
       "      <td>+24</td>\n",
       "    </tr>\n",
       "    <tr>\n",
       "      <th>8</th>\n",
       "      <td>17:18</td>\n",
       "      <td>2</td>\n",
       "      <td>5</td>\n",
       "      <td>.400</td>\n",
       "      <td>1</td>\n",
       "      <td>1</td>\n",
       "      <td>1.000</td>\n",
       "      <td>1</td>\n",
       "      <td>2</td>\n",
       "      <td>.500</td>\n",
       "      <td>3</td>\n",
       "      <td>2</td>\n",
       "      <td>5</td>\n",
       "      <td>2</td>\n",
       "      <td>1</td>\n",
       "      <td>0</td>\n",
       "      <td>2</td>\n",
       "      <td>4</td>\n",
       "      <td>6</td>\n",
       "      <td>+15</td>\n",
       "    </tr>\n",
       "    <tr>\n",
       "      <th>9</th>\n",
       "      <td>16:12</td>\n",
       "      <td>0</td>\n",
       "      <td>5</td>\n",
       "      <td>.000</td>\n",
       "      <td>0</td>\n",
       "      <td>1</td>\n",
       "      <td>.000</td>\n",
       "      <td>0</td>\n",
       "      <td>0</td>\n",
       "      <td></td>\n",
       "      <td>0</td>\n",
       "      <td>3</td>\n",
       "      <td>3</td>\n",
       "      <td>6</td>\n",
       "      <td>0</td>\n",
       "      <td>0</td>\n",
       "      <td>2</td>\n",
       "      <td>2</td>\n",
       "      <td>0</td>\n",
       "      <td>+3</td>\n",
       "    </tr>\n",
       "  </tbody>\n",
       "</table>\n",
       "</div>"
      ],
      "text/plain": [
       "      MP    FG   FGA   FG%    3P   3PA    3P%    FT   FTA    FT%   ORB   DRB  \\\n",
       "0  29:59     6     8  .750     3     4   .750     0     0            0     6   \n",
       "1  26:46     8    16  .500     5    10   .500     5     5  1.000     0     2   \n",
       "2  25:05     2     7  .286     0     2   .000     4     4  1.000     1     6   \n",
       "3  22:45     3     8  .375     0     0            2     2  1.000     3     5   \n",
       "4  20:29     3     7  .429     2     6   .333     0     0            1     3   \n",
       "5   None  None  None  None  None  None   None  None  None   None  None  None   \n",
       "6  23:37     4    12  .333     2     6   .333     1     1  1.000     0     1   \n",
       "7  22:29     5     8  .625     0     2   .000     2     4   .500     2     7   \n",
       "8  17:18     2     5  .400     1     1  1.000     1     2   .500     3     2   \n",
       "9  16:12     0     5  .000     0     1   .000     0     0            0     3   \n",
       "\n",
       "    TRB   AST   STL   BLK   TOV    PF   PTS   +/-  \n",
       "0     6     5     2     0     2     0    15   +32  \n",
       "1     2     5     1     0     3     0    26   +34  \n",
       "2     7     1     1     1     0     0     8   +19  \n",
       "3     8     2     1     0     0     2     8   +17  \n",
       "4     4     0     0     0     1     0     8   +13  \n",
       "5  None  None  None  None  None  None  None  None  \n",
       "6     1     2     0     0     1     3    11    +5  \n",
       "7     9     5     0     2     1     1    12   +24  \n",
       "8     5     2     1     0     2     4     6   +15  \n",
       "9     3     6     0     0     2     2     0    +3  "
      ]
     },
     "execution_count": 18,
     "metadata": {},
     "output_type": "execute_result"
    }
   ],
   "source": [
    "stats[:10]"
   ]
  },
  {
   "cell_type": "code",
   "execution_count": 19,
   "metadata": {},
   "outputs": [],
   "source": [
    "player = pd.DataFrame(player_names1) # create a separate dataframe for player names"
   ]
  },
  {
   "cell_type": "code",
   "execution_count": 20,
   "metadata": {},
   "outputs": [],
   "source": [
    "player = player[0][:66] # filter out unnecessary info from player name dataframe"
   ]
  },
  {
   "cell_type": "code",
   "execution_count": 21,
   "metadata": {},
   "outputs": [
    {
     "data": {
      "text/plain": [
       "(66,)"
      ]
     },
     "execution_count": 21,
     "metadata": {},
     "output_type": "execute_result"
    }
   ],
   "source": [
    "player.shape"
   ]
  },
  {
   "cell_type": "code",
   "execution_count": 22,
   "metadata": {},
   "outputs": [
    {
     "data": {
      "text/plain": [
       "(66, 20)"
      ]
     },
     "execution_count": 22,
     "metadata": {},
     "output_type": "execute_result"
    }
   ],
   "source": [
    "stats.shape"
   ]
  },
  {
   "cell_type": "code",
   "execution_count": 23,
   "metadata": {},
   "outputs": [],
   "source": [
    "stats['Player'] = player #add a new column to stats dataframe w player name in it"
   ]
  },
  {
   "cell_type": "code",
   "execution_count": 24,
   "metadata": {},
   "outputs": [
    {
     "data": {
      "text/html": [
       "<div>\n",
       "<style scoped>\n",
       "    .dataframe tbody tr th:only-of-type {\n",
       "        vertical-align: middle;\n",
       "    }\n",
       "\n",
       "    .dataframe tbody tr th {\n",
       "        vertical-align: top;\n",
       "    }\n",
       "\n",
       "    .dataframe thead th {\n",
       "        text-align: right;\n",
       "    }\n",
       "</style>\n",
       "<table border=\"1\" class=\"dataframe\">\n",
       "  <thead>\n",
       "    <tr style=\"text-align: right;\">\n",
       "      <th></th>\n",
       "      <th>MP</th>\n",
       "      <th>FG</th>\n",
       "      <th>FGA</th>\n",
       "      <th>FG%</th>\n",
       "      <th>3P</th>\n",
       "      <th>3PA</th>\n",
       "      <th>3P%</th>\n",
       "      <th>FT</th>\n",
       "      <th>FTA</th>\n",
       "      <th>FT%</th>\n",
       "      <th>...</th>\n",
       "      <th>DRB</th>\n",
       "      <th>TRB</th>\n",
       "      <th>AST</th>\n",
       "      <th>STL</th>\n",
       "      <th>BLK</th>\n",
       "      <th>TOV</th>\n",
       "      <th>PF</th>\n",
       "      <th>PTS</th>\n",
       "      <th>+/-</th>\n",
       "      <th>Player</th>\n",
       "    </tr>\n",
       "  </thead>\n",
       "  <tbody>\n",
       "    <tr>\n",
       "      <th>0</th>\n",
       "      <td>29:59</td>\n",
       "      <td>6</td>\n",
       "      <td>8</td>\n",
       "      <td>.750</td>\n",
       "      <td>3</td>\n",
       "      <td>4</td>\n",
       "      <td>.750</td>\n",
       "      <td>0</td>\n",
       "      <td>0</td>\n",
       "      <td></td>\n",
       "      <td>...</td>\n",
       "      <td>6</td>\n",
       "      <td>6</td>\n",
       "      <td>5</td>\n",
       "      <td>2</td>\n",
       "      <td>0</td>\n",
       "      <td>2</td>\n",
       "      <td>0</td>\n",
       "      <td>15</td>\n",
       "      <td>+32</td>\n",
       "      <td>Nicolas Batum</td>\n",
       "    </tr>\n",
       "    <tr>\n",
       "      <th>1</th>\n",
       "      <td>26:46</td>\n",
       "      <td>8</td>\n",
       "      <td>16</td>\n",
       "      <td>.500</td>\n",
       "      <td>5</td>\n",
       "      <td>10</td>\n",
       "      <td>.500</td>\n",
       "      <td>5</td>\n",
       "      <td>5</td>\n",
       "      <td>1.000</td>\n",
       "      <td>...</td>\n",
       "      <td>2</td>\n",
       "      <td>2</td>\n",
       "      <td>5</td>\n",
       "      <td>1</td>\n",
       "      <td>0</td>\n",
       "      <td>3</td>\n",
       "      <td>0</td>\n",
       "      <td>26</td>\n",
       "      <td>+34</td>\n",
       "      <td>Kemba Walker</td>\n",
       "    </tr>\n",
       "    <tr>\n",
       "      <th>2</th>\n",
       "      <td>25:05</td>\n",
       "      <td>2</td>\n",
       "      <td>7</td>\n",
       "      <td>.286</td>\n",
       "      <td>0</td>\n",
       "      <td>2</td>\n",
       "      <td>.000</td>\n",
       "      <td>4</td>\n",
       "      <td>4</td>\n",
       "      <td>1.000</td>\n",
       "      <td>...</td>\n",
       "      <td>6</td>\n",
       "      <td>7</td>\n",
       "      <td>1</td>\n",
       "      <td>1</td>\n",
       "      <td>1</td>\n",
       "      <td>0</td>\n",
       "      <td>0</td>\n",
       "      <td>8</td>\n",
       "      <td>+19</td>\n",
       "      <td>Jeremy Lamb</td>\n",
       "    </tr>\n",
       "  </tbody>\n",
       "</table>\n",
       "<p>3 rows × 21 columns</p>\n",
       "</div>"
      ],
      "text/plain": [
       "      MP FG FGA   FG% 3P 3PA   3P% FT FTA    FT%      ...       DRB TRB AST  \\\n",
       "0  29:59  6   8  .750  3   4  .750  0   0             ...         6   6   5   \n",
       "1  26:46  8  16  .500  5  10  .500  5   5  1.000      ...         2   2   5   \n",
       "2  25:05  2   7  .286  0   2  .000  4   4  1.000      ...         6   7   1   \n",
       "\n",
       "  STL BLK TOV PF PTS  +/-         Player  \n",
       "0   2   0   2  0  15  +32  Nicolas Batum  \n",
       "1   1   0   3  0  26  +34   Kemba Walker  \n",
       "2   1   1   0  0   8  +19    Jeremy Lamb  \n",
       "\n",
       "[3 rows x 21 columns]"
      ]
     },
     "execution_count": 24,
     "metadata": {},
     "output_type": "execute_result"
    }
   ],
   "source": [
    "stats[:3]"
   ]
  },
  {
   "cell_type": "code",
   "execution_count": 25,
   "metadata": {},
   "outputs": [],
   "source": [
    "# I need to create a unique identifier that I can scrape from rows"
   ]
  },
  {
   "cell_type": "markdown",
   "metadata": {},
   "source": [
    "Now I need to make sure I clean up the fields so that I do not have blank rows"
   ]
  },
  {
   "cell_type": "markdown",
   "metadata": {},
   "source": [
    "# Need to create information about what team is playing, what is the unique identifier so date+hometeam+awayteam, and then how to cross reference those databases"
   ]
  },
  {
   "cell_type": "code",
   "execution_count": 26,
   "metadata": {},
   "outputs": [],
   "source": [
    "rows2 = soup.findAll(class_='scorebox')"
   ]
  },
  {
   "cell_type": "code",
   "execution_count": 27,
   "metadata": {},
   "outputs": [
    {
     "data": {
      "text/plain": [
       "[<div class=\"scorebox\">\n",
       " <div>\n",
       " <div itemprop=\"performer\" itemscope=\"\" itemtype=\"https://schema.org/Organization\">\n",
       " <div class=\"media-item logo loader\">\n",
       " <img alt=\"2019 Charlotte Hornets Logo\" class=\"teamlogo\" itemscope=\"image\" src=\"https://d2p3bygnnzw9w3.cloudfront.net/req/201908281/tlogo/bbr/CHO-2019.png\"/>\n",
       " <p><a href=\"http://www.sportslogos.net/\">via Sports Logos.net</a></p>\n",
       " <p><a href=\"https://www.sports-reference.com/blog/2016/06/redesign-team-and-league-logos-courtesy-sportslogos-net/\">About logos</a></p>\n",
       " </div>\n",
       " <strong>\n",
       " <a href=\"/teams/CHO/2019.html\" itemprop=\"name\">Charlotte Hornets</a>\n",
       " </strong>\n",
       " </div>\n",
       " <div class=\"scores\">\n",
       " <div class=\"score\">120</div>\n",
       " </div><div>1-1</div>\n",
       " <div class=\"prevnext\">\n",
       " <a class=\"button2 prev\" href=\"/boxscores/201810170CHO.html\">Prev Game</a>\n",
       " <a class=\"button2 next\" href=\"/boxscores/201810200MIA.html\">Next Game</a>\n",
       " </div>\n",
       " </div>\n",
       " <div>\n",
       " <div itemprop=\"performer\" itemscope=\"\" itemtype=\"https://schema.org/Organization\">\n",
       " <div class=\"media-item logo loader\">\n",
       " <img alt=\"2019 Orlando Magic Logo\" class=\"teamlogo\" itemscope=\"image\" src=\"https://d2p3bygnnzw9w3.cloudfront.net/req/201908281/tlogo/bbr/ORL-2019.png\"/>\n",
       " <p><a href=\"http://www.sportslogos.net/\">via Sports Logos.net</a></p>\n",
       " <p><a href=\"https://www.sports-reference.com/blog/2016/06/redesign-team-and-league-logos-courtesy-sportslogos-net/\">About logos</a></p>\n",
       " </div>\n",
       " <strong>\n",
       " <a href=\"/teams/ORL/2019.html\" itemprop=\"name\">Orlando Magic</a>\n",
       " </strong>\n",
       " </div>\n",
       " <div class=\"scores\">\n",
       " <div class=\"score\">88</div>\n",
       " </div><div>1-1</div>\n",
       " <div class=\"prevnext\">\n",
       " <a class=\"button2 prev\" href=\"/boxscores/201810170ORL.html\">Prev Game</a>\n",
       " <a class=\"button2 next\" href=\"/boxscores/201810200PHI.html\">Next Game</a>\n",
       " </div>\n",
       " </div>\n",
       " <div class=\"scorebox_meta\">\n",
       " <div>7:00 PM, October 19, 2018</div><div>Amway Center, Orlando, Florida</div>\n",
       " <div><em>Logos <a href=\"http://www.sportslogos.net/\">via Sports Logos.net</a>\n",
       "             / <a href=\"//www.sports-reference.com/blog/2016/06/redesign-team-and-league-logos-courtesy-sportslogos-net/\">About logos</a></em></div>\n",
       " </div>\n",
       " </div>]"
      ]
     },
     "execution_count": 27,
     "metadata": {},
     "output_type": "execute_result"
    }
   ],
   "source": [
    "rows2"
   ]
  },
  {
   "cell_type": "code",
   "execution_count": null,
   "metadata": {},
   "outputs": [],
   "source": []
  },
  {
   "cell_type": "code",
   "execution_count": null,
   "metadata": {},
   "outputs": [],
   "source": []
  },
  {
   "cell_type": "code",
   "execution_count": 28,
   "metadata": {},
   "outputs": [],
   "source": [
    "overall_teams = [strong.getText() for strong in rows2[0].findAll('strong')]"
   ]
  },
  {
   "cell_type": "code",
   "execution_count": 29,
   "metadata": {},
   "outputs": [
    {
     "data": {
      "text/plain": [
       "['Charlotte Hornets', 'Orlando Magic']"
      ]
     },
     "execution_count": 29,
     "metadata": {},
     "output_type": "execute_result"
    }
   ],
   "source": [
    "overall_teams = [items.strip('\\n') for items in overall_teams]\n",
    "overall_teams"
   ]
  },
  {
   "cell_type": "code",
   "execution_count": 30,
   "metadata": {},
   "outputs": [],
   "source": [
    "overall_score = [scores.getText() for scores in rows2[0].findAll(class_='scores')]"
   ]
  },
  {
   "cell_type": "code",
   "execution_count": 31,
   "metadata": {},
   "outputs": [
    {
     "data": {
      "text/plain": [
       "['120', '88']"
      ]
     },
     "execution_count": 31,
     "metadata": {},
     "output_type": "execute_result"
    }
   ],
   "source": [
    "overall_score = [items.strip('\\n') for items in overall_score]\n",
    "overall_score"
   ]
  },
  {
   "cell_type": "code",
   "execution_count": 32,
   "metadata": {},
   "outputs": [
    {
     "data": {
      "text/plain": [
       "[<div class=\"scorebox_meta\">\n",
       " <div>7:00 PM, October 19, 2018</div><div>Amway Center, Orlando, Florida</div>\n",
       " <div><em>Logos <a href=\"http://www.sportslogos.net/\">via Sports Logos.net</a>\n",
       "             / <a href=\"//www.sports-reference.com/blog/2016/06/redesign-team-and-league-logos-courtesy-sportslogos-net/\">About logos</a></em></div>\n",
       " </div>]"
      ]
     },
     "execution_count": 32,
     "metadata": {},
     "output_type": "execute_result"
    }
   ],
   "source": [
    "rows2[0].findAll(class_='scorebox_meta')"
   ]
  },
  {
   "cell_type": "code",
   "execution_count": 33,
   "metadata": {},
   "outputs": [],
   "source": [
    "overall_date = [dates.getText() for dates in rows2[0].findAll(class_='scorebox_meta')]"
   ]
  },
  {
   "cell_type": "code",
   "execution_count": 34,
   "metadata": {},
   "outputs": [
    {
     "data": {
      "text/plain": [
       "['\\n7:00 PM, October 19, 2018Amway Center, Orlando, Florida\\nLogos via Sports Logos.net\\n            / About logos\\n']"
      ]
     },
     "execution_count": 34,
     "metadata": {},
     "output_type": "execute_result"
    }
   ],
   "source": [
    "overall_date"
   ]
  },
  {
   "cell_type": "code",
   "execution_count": 35,
   "metadata": {},
   "outputs": [],
   "source": [
    "overall_date = [items.strip('\\n') for items in overall_date]"
   ]
  },
  {
   "cell_type": "code",
   "execution_count": 36,
   "metadata": {},
   "outputs": [],
   "source": [
    "overall_date_2 = [items.split(',') for items in overall_date]"
   ]
  },
  {
   "cell_type": "code",
   "execution_count": 37,
   "metadata": {},
   "outputs": [
    {
     "data": {
      "text/plain": [
       "['7:00 PM', ' October 19', ' 2018Amway Center', ' Orlando']"
      ]
     },
     "execution_count": 37,
     "metadata": {},
     "output_type": "execute_result"
    }
   ],
   "source": [
    "overall_date_2[0][:4]"
   ]
  },
  {
   "cell_type": "code",
   "execution_count": 38,
   "metadata": {},
   "outputs": [
    {
     "data": {
      "text/plain": [
       "'2018'"
      ]
     },
     "execution_count": 38,
     "metadata": {},
     "output_type": "execute_result"
    }
   ],
   "source": [
    "overall_date_2[0][2][:5].strip(' ')"
   ]
  },
  {
   "cell_type": "code",
   "execution_count": 39,
   "metadata": {},
   "outputs": [],
   "source": [
    "def date_adjustment():\n",
    "    overall_date = [dates.getText() for dates in rows2[0].findAll(class_='scorebox_meta')]\n",
    "    overall_date = [items.strip('\\n') for items in overall_date]\n",
    "    overall_date_2 = [items.split(',') for items in overall_date]\n",
    "    output_list = []\n",
    "    output_list.append(overall_date_2[0][0])\n",
    "    output_list.append(overall_date_2[0][1])\n",
    "    output_list.append(overall_date_2[0][2][:5].strip(' '))\n",
    "    return output_list"
   ]
  },
  {
   "cell_type": "code",
   "execution_count": 40,
   "metadata": {},
   "outputs": [
    {
     "data": {
      "text/plain": [
       "['7:00 PM', ' October 19', '2018']"
      ]
     },
     "execution_count": 40,
     "metadata": {},
     "output_type": "execute_result"
    }
   ],
   "source": [
    "date_adjustment()"
   ]
  },
  {
   "cell_type": "code",
   "execution_count": 41,
   "metadata": {},
   "outputs": [],
   "source": [
    "date_list = ' '.join(date_adjustment())"
   ]
  },
  {
   "cell_type": "code",
   "execution_count": 42,
   "metadata": {},
   "outputs": [],
   "source": [
    "date_list_1 = []"
   ]
  },
  {
   "cell_type": "code",
   "execution_count": 43,
   "metadata": {},
   "outputs": [],
   "source": [
    "date_list_1.append(date_list)"
   ]
  },
  {
   "cell_type": "code",
   "execution_count": 44,
   "metadata": {},
   "outputs": [],
   "source": [
    "date_list_1.append(date_list)"
   ]
  },
  {
   "cell_type": "code",
   "execution_count": 45,
   "metadata": {},
   "outputs": [
    {
     "data": {
      "text/plain": [
       "['7:00 PM  October 19 2018', '7:00 PM  October 19 2018']"
      ]
     },
     "execution_count": 45,
     "metadata": {},
     "output_type": "execute_result"
    }
   ],
   "source": [
    "date_list_1"
   ]
  },
  {
   "cell_type": "code",
   "execution_count": 46,
   "metadata": {},
   "outputs": [],
   "source": [
    "teams_scores = pd.DataFrame(overall_teams, columns=['Team_Name'])"
   ]
  },
  {
   "cell_type": "code",
   "execution_count": 47,
   "metadata": {},
   "outputs": [],
   "source": [
    "teams_scores['Score'] = overall_score"
   ]
  },
  {
   "cell_type": "code",
   "execution_count": 48,
   "metadata": {},
   "outputs": [],
   "source": [
    "teams_scores['Date'] = date_list_1"
   ]
  },
  {
   "cell_type": "code",
   "execution_count": null,
   "metadata": {},
   "outputs": [],
   "source": []
  },
  {
   "cell_type": "code",
   "execution_count": 49,
   "metadata": {},
   "outputs": [
    {
     "data": {
      "text/html": [
       "<div>\n",
       "<style scoped>\n",
       "    .dataframe tbody tr th:only-of-type {\n",
       "        vertical-align: middle;\n",
       "    }\n",
       "\n",
       "    .dataframe tbody tr th {\n",
       "        vertical-align: top;\n",
       "    }\n",
       "\n",
       "    .dataframe thead th {\n",
       "        text-align: right;\n",
       "    }\n",
       "</style>\n",
       "<table border=\"1\" class=\"dataframe\">\n",
       "  <thead>\n",
       "    <tr style=\"text-align: right;\">\n",
       "      <th></th>\n",
       "      <th>Team_Name</th>\n",
       "      <th>Score</th>\n",
       "      <th>Date</th>\n",
       "    </tr>\n",
       "  </thead>\n",
       "  <tbody>\n",
       "    <tr>\n",
       "      <th>0</th>\n",
       "      <td>Charlotte Hornets</td>\n",
       "      <td>120</td>\n",
       "      <td>7:00 PM  October 19 2018</td>\n",
       "    </tr>\n",
       "    <tr>\n",
       "      <th>1</th>\n",
       "      <td>Orlando Magic</td>\n",
       "      <td>88</td>\n",
       "      <td>7:00 PM  October 19 2018</td>\n",
       "    </tr>\n",
       "  </tbody>\n",
       "</table>\n",
       "</div>"
      ],
      "text/plain": [
       "           Team_Name Score                      Date\n",
       "0  Charlotte Hornets   120  7:00 PM  October 19 2018\n",
       "1      Orlando Magic    88  7:00 PM  October 19 2018"
      ]
     },
     "execution_count": 49,
     "metadata": {},
     "output_type": "execute_result"
    }
   ],
   "source": [
    "teams_scores"
   ]
  },
  {
   "cell_type": "code",
   "execution_count": 50,
   "metadata": {},
   "outputs": [],
   "source": [
    "# all this code should be written into a function and then run the function for each scrape"
   ]
  },
  {
   "cell_type": "markdown",
   "metadata": {},
   "source": [
    "# Now I need to create a unique identifier that allows me to link my stats box score info with me team summary info\n",
    "This actually could be based on the search critera for the original website scrape - ie the url\n",
    "\n",
    "##### Then I will need to figure out how the data on the website is structured to scrape each boxscore individually\n",
    "\n",
    "# Then I need to think about how to feed the data into a database, an PostGresSQL database using a Docker instance"
   ]
  },
  {
   "cell_type": "code",
   "execution_count": 51,
   "metadata": {},
   "outputs": [
    {
     "data": {
      "text/plain": [
       "[<a class=\"button2 prev\" href=\"/boxscores/201810170CHO.html\">Prev Game</a>,\n",
       " <a class=\"button2 prev\" href=\"/boxscores/201810170ORL.html\">Prev Game</a>]"
      ]
     },
     "execution_count": 51,
     "metadata": {},
     "output_type": "execute_result"
    }
   ],
   "source": [
    "rows2[0].findAll(class_=\"button2 prev\")"
   ]
  },
  {
   "cell_type": "code",
   "execution_count": 52,
   "metadata": {},
   "outputs": [
    {
     "data": {
      "text/plain": [
       "['Prev Game', 'Prev Game']"
      ]
     },
     "execution_count": 52,
     "metadata": {},
     "output_type": "execute_result"
    }
   ],
   "source": [
    "[boxscores.getText() for boxscores in rows2[0].findAll(class_=\"button2 prev\")]"
   ]
  },
  {
   "cell_type": "code",
   "execution_count": 53,
   "metadata": {},
   "outputs": [],
   "source": [
    "# I need to extract data from the rows2 scrape segment to create the unique identifier\n",
    "# and add to my dataframe"
   ]
  },
  {
   "cell_type": "code",
   "execution_count": null,
   "metadata": {},
   "outputs": [],
   "source": []
  }
 ],
 "metadata": {
  "kernelspec": {
   "display_name": "Python 3",
   "language": "python",
   "name": "python3"
  },
  "language_info": {
   "codemirror_mode": {
    "name": "ipython",
    "version": 3
   },
   "file_extension": ".py",
   "mimetype": "text/x-python",
   "name": "python",
   "nbconvert_exporter": "python",
   "pygments_lexer": "ipython3",
   "version": "3.7.0"
  }
 },
 "nbformat": 4,
 "nbformat_minor": 2
}
