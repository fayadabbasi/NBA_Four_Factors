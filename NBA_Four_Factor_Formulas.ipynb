{
 "cells": [
  {
   "cell_type": "code",
   "execution_count": 557,
   "metadata": {},
   "outputs": [],
   "source": [
    "import requests\n",
    "import re\n",
    "from urllib.request import urlopen\n",
    "from bs4 import BeautifulSoup\n",
    "import json\n",
    "import time\n",
    "import pandas as pd\n",
    "import numpy as np\n",
    "import pickle"
   ]
  },
  {
   "cell_type": "code",
   "execution_count": 558,
   "metadata": {},
   "outputs": [],
   "source": [
    "# year, month, day, team = ['2017', '10', '17', 'CLE']\n",
    "# web_template = (f'https://www.basketball-reference.com/boxscores/{year}{month}{day}0{team}.html')\n",
    "# web_template"
   ]
  },
  {
   "cell_type": "code",
   "execution_count": 569,
   "metadata": {},
   "outputs": [],
   "source": [
    "    # with open ('tags.pkl', 'rb') as fp:\n",
    "    #     new_lst = pickle.load(fp)"
   ]
  },
  {
   "cell_type": "code",
   "execution_count": 660,
   "metadata": {},
   "outputs": [],
   "source": [
    "# new_lst[0]"
   ]
  },
  {
   "cell_type": "code",
   "execution_count": 572,
   "metadata": {},
   "outputs": [],
   "source": [
    "def web_scrape(inputlist):    \n",
    "    year = inputlist[:4]\n",
    "    month = inputlist[4:6]\n",
    "    day = inputlist[6:8]\n",
    "    team = inputlist[9:]\n",
    "    web_template = (f'https://www.basketball-reference.com/boxscores/{year}{month}{day}0{team}.html')\n",
    "    data = requests.get(web_template)\n",
    "    soup = BeautifulSoup(data.text, 'html.parser')\n",
    "    headers_four_factors = [th.getText() for th in soup.findAll('tr', limit=2)[1].findAll('th')]\n",
    "    rows = soup.findAll('tr')[2:]\n",
    "    player_stats1 = [[td.getText() for td in rows[i].findAll('td')] for i in range(len(rows))]\n",
    "    player_names1 = [[td.getText() for td in rows[i].findAll('th')] for i in range(len(rows))]\n",
    "    stats = pd.DataFrame(player_stats1, columns = headers_four_factors[1:])\n",
    "    player = pd.DataFrame(player_names1)\n",
    "    player = player[0][:66]\n",
    "    stats['Player'] = player\n",
    "    return stats"
   ]
  },
  {
   "cell_type": "code",
   "execution_count": 574,
   "metadata": {},
   "outputs": [],
   "source": [
    "def team_summary(inputlist):    \n",
    "    year = inputlist[:4]\n",
    "    month = inputlist[4:6]\n",
    "    day = inputlist[6:8]\n",
    "    team = inputlist[9:]\n",
    "    web_template = (f'https://www.basketball-reference.com/boxscores/{year}{month}{day}0{team}.html')\n",
    "    data = requests.get(web_template)\n",
    "    soup = BeautifulSoup(data.text, 'html.parser')\n",
    "    rows2 = soup.findAll(class_='scorebox')\n",
    "    overall_teams = [strong.getText() for strong in rows2[0].findAll('strong')]\n",
    "    overall_teams = [items.strip('\\n') for items in overall_teams]\n",
    "    overall_score = [scores.getText() for scores in rows2[0].findAll(class_='scores')]\n",
    "    overall_score = [items.strip('\\n') for items in overall_score]\n",
    "    \n",
    "    def date_adjustment():\n",
    "        overall_date = [dates.getText() for dates in rows2[0].findAll(class_='scorebox_meta')]\n",
    "        overall_date = [items.strip('\\n') for items in overall_date]\n",
    "        overall_date_2 = [items.split(',') for items in overall_date]\n",
    "        output_list = []\n",
    "        output_list.append(overall_date_2[0][0])\n",
    "        output_list.append(overall_date_2[0][1])\n",
    "        output_list.append(overall_date_2[0][2][:5].strip(' '))\n",
    "        \n",
    "        return output_list\n",
    "    \n",
    "    date_list = [' '.join(date_adjustment())] * 2\n",
    "    teams_scores = pd.DataFrame(overall_teams, columns=['Team_Name'])\n",
    "    teams_scores['Score'] = overall_score\n",
    "    teams_scores['Date'] = date_list\n",
    "    return teams_scores\n",
    "    "
   ]
  },
  {
   "cell_type": "code",
   "execution_count": 656,
   "metadata": {},
   "outputs": [],
   "source": [
    "def four_factors_output(inputlist):\n",
    "    year = inputlist[:4]\n",
    "    month = inputlist[4:6]\n",
    "    day = inputlist[6:8]\n",
    "    team = inputlist[9:]\n",
    "    stats = web_scrape(inputlist)\n",
    "    teams_scores = team_summary(inputlist)\n",
    "    test = stats[['Player','MP','FG', 'FGA', '3P', 'FT', 'ORB', 'TOV', 'FTA', 'DRB', 'PTS']]    \n",
    "    test_list = ['FG', 'FGA', '3P', 'FT', 'ORB', 'TOV', 'FTA', 'DRB']\n",
    "    test = test.dropna()\n",
    "    for items in test_list:\n",
    "        test[items] = pd.to_numeric(test[items], errors='coerce').fillna(0).astype(int)\n",
    "    \n",
    "    test['Player'][test['PTS']==teams_scores['Score'].iloc[0]] = teams_scores['Team_Name'].iloc[0]\n",
    "    test['Player'][test['PTS']==teams_scores['Score'].iloc[1]] = teams_scores['Team_Name'].iloc[1]\n",
    "    test['Date'] = teams_scores['Date'].iloc[0]\n",
    "    \n",
    "    test['eFG'] = (test['FG'] + 0.5* test['3P']) / test['FGA']\n",
    "    test['TOV_per'] = test['TOV'] / (test['FGA'] + 0.44 * test['FTA'] + test['TOV'])\n",
    "    test['ORB_per'] = test['ORB'] / (test['ORB'] + test['DRB'])\n",
    "    test['FTr'] = test['FT'] / test['FGA']\n",
    "    four_factors_dataframe = test[['Player', 'eFG', 'TOV_per', 'ORB_per', 'FTr', 'Date']]\n",
    "    \n",
    "    uniq_id = str(year)+str(month)+str(day)+team\n",
    "    append_data = test[test['Player']==teams_scores['Team_Name'][0]]\n",
    "    append_data = append_data.append(test[test['Player']==teams_scores['Team_Name'][1]])\n",
    "    append_data['id_t'] = uniq_id\n",
    "    append_data['loc'] = team\n",
    "    return append_data\n"
   ]
  }
 ],
 "metadata": {
  "kernelspec": {
   "display_name": "Python 3",
   "language": "python",
   "name": "python3"
  },
  "language_info": {
   "codemirror_mode": {
    "name": "ipython",
    "version": 3
   },
   "file_extension": ".py",
   "mimetype": "text/x-python",
   "name": "python",
   "nbconvert_exporter": "python",
   "pygments_lexer": "ipython3",
   "version": "3.7.0"
  }
 },
 "nbformat": 4,
 "nbformat_minor": 2
}
